{
 "cells": [
  {
   "cell_type": "markdown",
   "metadata": {},
   "source": [
    "# Birdsong REST API\n",
    "\n",
    "The Birdsong database is accessible via a REST API. Accessing it with any language should be fairly simple; for these examples, we'll use Python.\n",
    "\n",
    "All we need to get started is to import the _requests_ package and set up our base URL."
   ]
  },
  {
   "cell_type": "code",
   "execution_count": null,
   "metadata": {},
   "outputs": [],
   "source": [
    "import requests\n",
    "URL = \"http://127.0.0.1:5000/\""
   ]
  },
  {
   "cell_type": "markdown",
   "metadata": {},
   "source": [
    "The simplest requests just view the rows in the database tables. Let's look at _bird_ - the datbase's driving table:"
   ]
  },
  {
   "cell_type": "code",
   "execution_count": null,
   "metadata": {},
   "outputs": [],
   "source": [
    "# Find all birds\n",
    "req = requests.get(URL + \"view/bird\")\n",
    "\n",
    "# Results are returned as JSON. There are two blocks - \"data\" contains the returned data\n",
    "req.json()[\"data\"]"
   ]
  },
  {
   "cell_type": "code",
   "execution_count": null,
   "metadata": {},
   "outputs": [],
   "source": [
    "# \"rest\" contains statistics on the API call itself\n",
    "req.json()[\"rest\"]"
   ]
  },
  {
   "cell_type": "markdown",
   "metadata": {},
   "source": [
    "We can also filter query results to look at specific birds:"
   ]
  },
  {
   "cell_type": "code",
   "execution_count": null,
   "metadata": {},
   "outputs": [],
   "source": [
    "# Find all birds sired by a specific bird\n",
    "req = requests.get(URL + \"view/bird?sire=20171220_purple42white35\")\n",
    "req.json()"
   ]
  },
  {
   "cell_type": "markdown",
   "metadata": {},
   "source": [
    "That's a lot of data. What if we just wanted the nest and name for the birds?\n",
    "We can specify just the columns we want:"
   ]
  },
  {
   "cell_type": "code",
   "execution_count": null,
   "metadata": {},
   "outputs": [],
   "source": [
    "# Find specific columns for all birds sired by a specific bird\n",
    "req = requests.get(URL + \"view/bird?sire=20171220_purple42white35&_columns=nest,name\")\n",
    "req.json()"
   ]
  },
  {
   "cell_type": "markdown",
   "metadata": {},
   "source": [
    "If you ever want to know which columns you can use for filtering, use the _/columns/_ endpoint:"
   ]
  },
  {
   "cell_type": "code",
   "execution_count": null,
   "metadata": {},
   "outputs": [],
   "source": [
    "# Find columns in the bird_event table\n",
    "req = requests.get(URL + \"columns/bird\")\n",
    "req.json()"
   ]
  },
  {
   "cell_type": "markdown",
   "metadata": {},
   "source": [
    "Not sure of the tables you can query?"
   ]
  },
  {
   "cell_type": "code",
   "execution_count": null,
   "metadata": {},
   "outputs": [],
   "source": [
    "# Find views/tables\n",
    "req = requests.get(URL + \"tables\")\n",
    "req.json()"
   ]
  },
  {
   "cell_type": "markdown",
   "metadata": {},
   "source": [
    "Let's try a different table:"
   ]
  },
  {
   "cell_type": "code",
   "execution_count": null,
   "metadata": {},
   "outputs": [],
   "source": [
    "# Find all events for a specific bird\n",
    "req = requests.get(URL + \"view/bird_event?name=20220405_purple12white23\")\n",
    "req.json()"
   ]
  },
  {
   "cell_type": "markdown",
   "metadata": {},
   "source": [
    "So far, everything has worked. What if there's an error, like a filter that specifies a non-existent bird?"
   ]
  },
  {
   "cell_type": "code",
   "execution_count": null,
   "metadata": {},
   "outputs": [],
   "source": [
    "# If there's an error, check rest->error\n",
    "req = requests.get(URL + \"view/bird_event?name=no_such_bird\")\n",
    "req.json()"
   ]
  },
  {
   "cell_type": "markdown",
   "metadata": {},
   "source": [
    "What about nests?"
   ]
  },
  {
   "cell_type": "code",
   "execution_count": null,
   "metadata": {},
   "outputs": [],
   "source": [
    "# Find nests with a specific bird as a sire\n",
    "req = requests.get(URL + \"view/nest?sire=20171220_purple42white35\")\n",
    "req.json()"
   ]
  },
  {
   "cell_type": "markdown",
   "metadata": {},
   "source": [
    "Wildcards are also supported. Let's go back to the bird table:"
   ]
  },
  {
   "cell_type": "code",
   "execution_count": null,
   "metadata": {},
   "outputs": [],
   "source": [
    "# Find all birds with a green leg band:\n",
    "req = requests.get(URL + \"view/bird?name=*green*\")\n",
    "req.json()"
   ]
  },
  {
   "cell_type": "markdown",
   "metadata": {},
   "source": [
    "\"Not equals\" (or \"not like\" in the case of wildscards) is also supported:"
   ]
  },
  {
   "cell_type": "code",
   "execution_count": null,
   "metadata": {},
   "outputs": [],
   "source": [
    "# Find the names of all birds without a green leg band:\n",
    "req = requests.get(URL + \"view/bird?name!=*green*&_columns=name\")\n",
    "req.json()"
   ]
  },
  {
   "cell_type": "markdown",
   "metadata": {},
   "source": [
    "<= and >= are also supported. Let's find every bird hatched before January 1st of 2020:"
   ]
  },
  {
   "cell_type": "code",
   "execution_count": null,
   "metadata": {},
   "outputs": [],
   "source": [
    "# Find the names of all birds without a green leg band hatched before 2020-01-01:\n",
    "req = requests.get(URL + \"view/bird?hatch_late<=2020-01-01&_columns=name,hatch_early,hatch_late\")\n",
    "req.json()"
   ]
  },
  {
   "cell_type": "markdown",
   "metadata": {},
   "source": [
    "We can also sort the results by a column or columns:"
   ]
  },
  {
   "cell_type": "code",
   "execution_count": null,
   "metadata": {},
   "outputs": [],
   "source": [
    "# Find the names of all birds without a green leg band, sorted by hatch_early:\n",
    "req = requests.get(URL + \"view/bird?name!=*green*&_columns=name,hatch_early;_sort=hatch_early\")\n",
    "req.json()"
   ]
  },
  {
   "cell_type": "markdown",
   "metadata": {},
   "source": [
    "Want it in reverse order? Just add \" desc\" (case is unimportant) after the column name:"
   ]
  },
  {
   "cell_type": "code",
   "execution_count": null,
   "metadata": {},
   "outputs": [],
   "source": [
    "# Find the names of all birds without a green leg band, sorted by hatch_early (in reverse order):\n",
    "req = requests.get(URL + \"view/species\")\n",
    "req.json()"
   ]
  },
  {
   "cell_type": "code",
   "execution_count": null,
   "metadata": {},
   "outputs": [],
   "source": []
  }
 ],
 "metadata": {
  "kernelspec": {
   "display_name": "Python 3",
   "language": "python",
   "name": "python3"
  },
  "language_info": {
   "codemirror_mode": {
    "name": "ipython",
    "version": 3
   },
   "file_extension": ".py",
   "mimetype": "text/x-python",
   "name": "python",
   "nbconvert_exporter": "python",
   "pygments_lexer": "ipython3",
   "version": "3.8.1"
  }
 },
 "nbformat": 4,
 "nbformat_minor": 4
}
