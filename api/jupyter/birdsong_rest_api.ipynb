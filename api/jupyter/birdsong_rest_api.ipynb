{
 "cells": [
  {
   "cell_type": "markdown",
   "metadata": {},
   "source": [
    "# Birdsong REST API\n",
    "\n",
    "The Birdsong database is accessible via a REST API. Accessing it with any language should be fairly simple; for these examples, we'll use Python.\n",
    "\n",
    "All we need to get started is to import the _requests_ package and set up our base URL."
   ]
  },
  {
   "cell_type": "code",
   "execution_count": 1,
   "metadata": {},
   "outputs": [],
   "source": [
    "import requests\n",
    "URL = \"http://127.0.0.1:5000/\""
   ]
  },
  {
   "cell_type": "markdown",
   "metadata": {},
   "source": [
    "The simplest requests just view the rows in the database tables. Let's look at _bird_ the datbase's driving table:"
   ]
  },
  {
   "cell_type": "code",
   "execution_count": 2,
   "metadata": {},
   "outputs": [
    {
     "data": {
      "text/plain": [
       "[{'id': 1,\n",
       "  'name': '20171220_purple42white35',\n",
       "  'band': 'pu42wh35',\n",
       "  'nest': '20171220_purplewhite',\n",
       "  'clutch': None,\n",
       "  'sire': None,\n",
       "  'damsel': None,\n",
       "  'tutor': None,\n",
       "  'location': 'CR4',\n",
       "  'user': None,\n",
       "  'username': '',\n",
       "  'sex': 'M',\n",
       "  'notes': None,\n",
       "  'current_age': 1577,\n",
       "  'alive': 1,\n",
       "  'hatch_early': 'Wed, 20 Dec 2017 00:00:00',\n",
       "  'hatch_late': 'Wed, 27 Dec 2017 00:00:00',\n",
       "  'death_date': '0000-00-00 00:00:00'},\n",
       " {'id': 2,\n",
       "  'name': '20171220_green42green35',\n",
       "  'band': 'gr42gr35',\n",
       "  'nest': '20171220_purplewhite',\n",
       "  'clutch': None,\n",
       "  'sire': None,\n",
       "  'damsel': None,\n",
       "  'tutor': None,\n",
       "  'location': 'breeding',\n",
       "  'user': None,\n",
       "  'username': '',\n",
       "  'sex': 'F',\n",
       "  'notes': None,\n",
       "  'current_age': 1577,\n",
       "  'alive': 1,\n",
       "  'hatch_early': 'Wed, 20 Dec 2017 00:00:00',\n",
       "  'hatch_late': 'Wed, 27 Dec 2017 00:00:00',\n",
       "  'death_date': '0000-00-00 00:00:00'},\n",
       " {'id': 3,\n",
       "  'name': '20180611_purple19white71',\n",
       "  'band': 'pu19wh71',\n",
       "  'nest': '20171220_purplewhite',\n",
       "  'clutch': None,\n",
       "  'sire': '20171220_purple42white35',\n",
       "  'damsel': '20171220_green42green35',\n",
       "  'tutor': None,\n",
       "  'location': None,\n",
       "  'user': 'robsvi@gmail.com',\n",
       "  'username': 'Svirskas, Rob',\n",
       "  'sex': 'M',\n",
       "  'notes': None,\n",
       "  'current_age': 1404,\n",
       "  'alive': 1,\n",
       "  'hatch_early': 'Mon, 11 Jun 2018 00:00:00',\n",
       "  'hatch_late': 'Sun, 17 Jun 2018 00:00:00',\n",
       "  'death_date': '0000-00-00 00:00:00'},\n",
       " {'id': 4,\n",
       "  'name': '20220405_purple11white21',\n",
       "  'band': 'pu11wh21',\n",
       "  'nest': '20171220_purplewhite',\n",
       "  'clutch': '20220405_20171220_purplewhite',\n",
       "  'sire': '20171220_purple42white35',\n",
       "  'damsel': '20171220_green42green35',\n",
       "  'tutor': None,\n",
       "  'location': 'CR4',\n",
       "  'user': None,\n",
       "  'username': '',\n",
       "  'sex': '',\n",
       "  'notes': '',\n",
       "  'current_age': 10,\n",
       "  'alive': 1,\n",
       "  'hatch_early': 'Tue, 5 Apr 2022 00:00:00',\n",
       "  'hatch_late': 'Fri, 15 Apr 2022 00:00:00',\n",
       "  'death_date': '0000-00-00 00:00:00'},\n",
       " {'id': 5,\n",
       "  'name': '20220405_purple12white22',\n",
       "  'band': 'pu12wh22',\n",
       "  'nest': '20171220_purplewhite',\n",
       "  'clutch': '20220405_20171220_purplewhite',\n",
       "  'sire': '20171220_purple42white35',\n",
       "  'damsel': '20171220_green42green35',\n",
       "  'tutor': None,\n",
       "  'location': 'CR4',\n",
       "  'user': None,\n",
       "  'username': '',\n",
       "  'sex': '',\n",
       "  'notes': '',\n",
       "  'current_age': 10,\n",
       "  'alive': 1,\n",
       "  'hatch_early': 'Tue, 5 Apr 2022 00:00:00',\n",
       "  'hatch_late': 'Fri, 15 Apr 2022 00:00:00',\n",
       "  'death_date': '0000-00-00 00:00:00'},\n",
       " {'id': 6,\n",
       "  'name': '20220405_purple12white23',\n",
       "  'band': 'pu12wh23',\n",
       "  'nest': '20171220_purplewhite',\n",
       "  'clutch': '20220405_20171220_purplewhite',\n",
       "  'sire': '20171220_purple42white35',\n",
       "  'damsel': '20171220_green42green35',\n",
       "  'tutor': None,\n",
       "  'location': 'CR4',\n",
       "  'user': None,\n",
       "  'username': '',\n",
       "  'sex': '',\n",
       "  'notes': '',\n",
       "  'current_age': 10,\n",
       "  'alive': 1,\n",
       "  'hatch_early': 'Tue, 5 Apr 2022 00:00:00',\n",
       "  'hatch_late': 'Fri, 15 Apr 2022 00:00:00',\n",
       "  'death_date': '0000-00-00 00:00:00'}]"
      ]
     },
     "execution_count": 2,
     "metadata": {},
     "output_type": "execute_result"
    }
   ],
   "source": [
    "# Find all birds\n",
    "req = requests.get(URL + \"view/bird\")\n",
    "\n",
    "# Results are returned as JSON. There are two blocks - \"data\" contains the returned data\n",
    "req.json()[\"data\"]"
   ]
  },
  {
   "cell_type": "code",
   "execution_count": 3,
   "metadata": {},
   "outputs": [
    {
     "data": {
      "text/plain": [
       "{'requester': '127.0.0.1',\n",
       " 'url': 'http://127.0.0.1:5000/view/bird',\n",
       " 'endpoint': 'get_view_rows',\n",
       " 'error': False,\n",
       " 'elapsed_time': '0:00:00.001743',\n",
       " 'row_count': 6,\n",
       " 'pid': 42219,\n",
       " 'sql_statement': 'SELECT * FROM bird_vw'}"
      ]
     },
     "execution_count": 3,
     "metadata": {},
     "output_type": "execute_result"
    }
   ],
   "source": [
    "# \"rest\" contains statistics on the API call itself\n",
    "req.json()[\"rest\"]"
   ]
  },
  {
   "cell_type": "markdown",
   "metadata": {},
   "source": [
    "We can also look at specific birds:"
   ]
  },
  {
   "cell_type": "code",
   "execution_count": 4,
   "metadata": {},
   "outputs": [
    {
     "data": {
      "text/plain": [
       "{'rest': {'requester': '127.0.0.1',\n",
       "  'url': 'http://127.0.0.1:5000/view/bird?sire=20171220_purple42white35',\n",
       "  'endpoint': 'get_view_rows',\n",
       "  'error': False,\n",
       "  'elapsed_time': '0:00:00.001942',\n",
       "  'row_count': 4,\n",
       "  'pid': 42219,\n",
       "  'sql_statement': \"SELECT * FROM bird_vw WHERE sire=('20171220_purple42white35')\"},\n",
       " 'data': [{'id': 3,\n",
       "   'name': '20180611_purple19white71',\n",
       "   'band': 'pu19wh71',\n",
       "   'nest': '20171220_purplewhite',\n",
       "   'clutch': None,\n",
       "   'sire': '20171220_purple42white35',\n",
       "   'damsel': '20171220_green42green35',\n",
       "   'tutor': None,\n",
       "   'location': None,\n",
       "   'user': 'robsvi@gmail.com',\n",
       "   'username': 'Svirskas, Rob',\n",
       "   'sex': 'M',\n",
       "   'notes': None,\n",
       "   'current_age': 1404,\n",
       "   'alive': 1,\n",
       "   'hatch_early': 'Mon, 11 Jun 2018 00:00:00',\n",
       "   'hatch_late': 'Sun, 17 Jun 2018 00:00:00',\n",
       "   'death_date': '0000-00-00 00:00:00'},\n",
       "  {'id': 4,\n",
       "   'name': '20220405_purple11white21',\n",
       "   'band': 'pu11wh21',\n",
       "   'nest': '20171220_purplewhite',\n",
       "   'clutch': '20220405_20171220_purplewhite',\n",
       "   'sire': '20171220_purple42white35',\n",
       "   'damsel': '20171220_green42green35',\n",
       "   'tutor': None,\n",
       "   'location': 'CR4',\n",
       "   'user': None,\n",
       "   'username': '',\n",
       "   'sex': '',\n",
       "   'notes': '',\n",
       "   'current_age': 10,\n",
       "   'alive': 1,\n",
       "   'hatch_early': 'Tue, 5 Apr 2022 00:00:00',\n",
       "   'hatch_late': 'Fri, 15 Apr 2022 00:00:00',\n",
       "   'death_date': '0000-00-00 00:00:00'},\n",
       "  {'id': 5,\n",
       "   'name': '20220405_purple12white22',\n",
       "   'band': 'pu12wh22',\n",
       "   'nest': '20171220_purplewhite',\n",
       "   'clutch': '20220405_20171220_purplewhite',\n",
       "   'sire': '20171220_purple42white35',\n",
       "   'damsel': '20171220_green42green35',\n",
       "   'tutor': None,\n",
       "   'location': 'CR4',\n",
       "   'user': None,\n",
       "   'username': '',\n",
       "   'sex': '',\n",
       "   'notes': '',\n",
       "   'current_age': 10,\n",
       "   'alive': 1,\n",
       "   'hatch_early': 'Tue, 5 Apr 2022 00:00:00',\n",
       "   'hatch_late': 'Fri, 15 Apr 2022 00:00:00',\n",
       "   'death_date': '0000-00-00 00:00:00'},\n",
       "  {'id': 6,\n",
       "   'name': '20220405_purple12white23',\n",
       "   'band': 'pu12wh23',\n",
       "   'nest': '20171220_purplewhite',\n",
       "   'clutch': '20220405_20171220_purplewhite',\n",
       "   'sire': '20171220_purple42white35',\n",
       "   'damsel': '20171220_green42green35',\n",
       "   'tutor': None,\n",
       "   'location': 'CR4',\n",
       "   'user': None,\n",
       "   'username': '',\n",
       "   'sex': '',\n",
       "   'notes': '',\n",
       "   'current_age': 10,\n",
       "   'alive': 1,\n",
       "   'hatch_early': 'Tue, 5 Apr 2022 00:00:00',\n",
       "   'hatch_late': 'Fri, 15 Apr 2022 00:00:00',\n",
       "   'death_date': '0000-00-00 00:00:00'}]}"
      ]
     },
     "execution_count": 4,
     "metadata": {},
     "output_type": "execute_result"
    }
   ],
   "source": [
    "# Find all birds sired by a specific bird\n",
    "req = requests.get(URL + \"view/bird?sire=20171220_purple42white35\")\n",
    "req.json()"
   ]
  },
  {
   "cell_type": "markdown",
   "metadata": {},
   "source": [
    "That's a lot of data. What if I just wanted the nest and name for the birds?\n",
    "We can specify just the columns we want:"
   ]
  },
  {
   "cell_type": "code",
   "execution_count": 5,
   "metadata": {},
   "outputs": [
    {
     "data": {
      "text/plain": [
       "{'rest': {'requester': '127.0.0.1',\n",
       "  'url': 'http://127.0.0.1:5000/view/bird?sire=20171220_purple42white35&_columns=nest,name',\n",
       "  'endpoint': 'get_view_rows',\n",
       "  'error': False,\n",
       "  'elapsed_time': '0:00:00.001299',\n",
       "  'row_count': 4,\n",
       "  'pid': 42219,\n",
       "  'sql_statement': \"SELECT nest,name FROM bird_vw WHERE sire=('20171220_purple42white35')\"},\n",
       " 'data': [{'nest': '20171220_purplewhite', 'name': '20180611_purple19white71'},\n",
       "  {'nest': '20171220_purplewhite', 'name': '20220405_purple11white21'},\n",
       "  {'nest': '20171220_purplewhite', 'name': '20220405_purple12white22'},\n",
       "  {'nest': '20171220_purplewhite', 'name': '20220405_purple12white23'}]}"
      ]
     },
     "execution_count": 5,
     "metadata": {},
     "output_type": "execute_result"
    }
   ],
   "source": [
    "# Find specific columns for all birds sired by a specific bird\n",
    "req = requests.get(URL + \"view/bird?sire=20171220_purple42white35&_columns=nest,name\")\n",
    "req.json()"
   ]
  },
  {
   "cell_type": "markdown",
   "metadata": {},
   "source": [
    "If you ever want to know which columns you can use for filtering, use the /columns/ endpoint:"
   ]
  },
  {
   "cell_type": "code",
   "execution_count": 6,
   "metadata": {},
   "outputs": [
    {
     "data": {
      "text/plain": [
       "{'rest': {'requester': '127.0.0.1',\n",
       "  'url': 'http://127.0.0.1:5000/columns/bird',\n",
       "  'endpoint': 'get_view_columns',\n",
       "  'error': False,\n",
       "  'elapsed_time': '0:00:00.005345',\n",
       "  'row_count': 18,\n",
       "  'pid': 42219},\n",
       " 'columns': [{'Field': 'id',\n",
       "   'Type': 'int(10) unsigned',\n",
       "   'Null': 'NO',\n",
       "   'Key': '',\n",
       "   'Default': '0',\n",
       "   'Extra': ''},\n",
       "  {'Field': 'name',\n",
       "   'Type': 'varchar(128)',\n",
       "   'Null': 'NO',\n",
       "   'Key': '',\n",
       "   'Default': None,\n",
       "   'Extra': ''},\n",
       "  {'Field': 'band',\n",
       "   'Type': 'varchar(128)',\n",
       "   'Null': 'NO',\n",
       "   'Key': '',\n",
       "   'Default': None,\n",
       "   'Extra': ''},\n",
       "  {'Field': 'nest',\n",
       "   'Type': 'varchar(128)',\n",
       "   'Null': 'YES',\n",
       "   'Key': '',\n",
       "   'Default': None,\n",
       "   'Extra': ''},\n",
       "  {'Field': 'clutch',\n",
       "   'Type': 'varchar(128)',\n",
       "   'Null': 'YES',\n",
       "   'Key': '',\n",
       "   'Default': None,\n",
       "   'Extra': ''},\n",
       "  {'Field': 'sire',\n",
       "   'Type': 'varchar(128)',\n",
       "   'Null': 'YES',\n",
       "   'Key': '',\n",
       "   'Default': None,\n",
       "   'Extra': ''},\n",
       "  {'Field': 'damsel',\n",
       "   'Type': 'varchar(128)',\n",
       "   'Null': 'YES',\n",
       "   'Key': '',\n",
       "   'Default': None,\n",
       "   'Extra': ''},\n",
       "  {'Field': 'tutor',\n",
       "   'Type': 'varchar(128)',\n",
       "   'Null': 'YES',\n",
       "   'Key': '',\n",
       "   'Default': None,\n",
       "   'Extra': ''},\n",
       "  {'Field': 'location',\n",
       "   'Type': 'varchar(128)',\n",
       "   'Null': 'YES',\n",
       "   'Key': '',\n",
       "   'Default': None,\n",
       "   'Extra': ''},\n",
       "  {'Field': 'user',\n",
       "   'Type': 'varchar(128)',\n",
       "   'Null': 'YES',\n",
       "   'Key': '',\n",
       "   'Default': None,\n",
       "   'Extra': ''},\n",
       "  {'Field': 'username',\n",
       "   'Type': 'varchar(258)',\n",
       "   'Null': 'YES',\n",
       "   'Key': '',\n",
       "   'Default': None,\n",
       "   'Extra': ''},\n",
       "  {'Field': 'sex',\n",
       "   'Type': 'varchar(1)',\n",
       "   'Null': 'NO',\n",
       "   'Key': '',\n",
       "   'Default': None,\n",
       "   'Extra': ''},\n",
       "  {'Field': 'notes',\n",
       "   'Type': 'text',\n",
       "   'Null': 'YES',\n",
       "   'Key': '',\n",
       "   'Default': None,\n",
       "   'Extra': ''},\n",
       "  {'Field': 'current_age',\n",
       "   'Type': 'int(7)',\n",
       "   'Null': 'YES',\n",
       "   'Key': '',\n",
       "   'Default': None,\n",
       "   'Extra': ''},\n",
       "  {'Field': 'alive',\n",
       "   'Type': 'tinyint(3) unsigned',\n",
       "   'Null': 'NO',\n",
       "   'Key': '',\n",
       "   'Default': None,\n",
       "   'Extra': ''},\n",
       "  {'Field': 'hatch_early',\n",
       "   'Type': 'timestamp',\n",
       "   'Null': 'NO',\n",
       "   'Key': '',\n",
       "   'Default': '0000-00-00 00:00:00',\n",
       "   'Extra': ''},\n",
       "  {'Field': 'hatch_late',\n",
       "   'Type': 'timestamp',\n",
       "   'Null': 'NO',\n",
       "   'Key': '',\n",
       "   'Default': '0000-00-00 00:00:00',\n",
       "   'Extra': ''},\n",
       "  {'Field': 'death_date',\n",
       "   'Type': 'timestamp',\n",
       "   'Null': 'NO',\n",
       "   'Key': '',\n",
       "   'Default': '0000-00-00 00:00:00',\n",
       "   'Extra': ''}]}"
      ]
     },
     "execution_count": 6,
     "metadata": {},
     "output_type": "execute_result"
    }
   ],
   "source": [
    "# Find columns in the bird_event table\n",
    "req = requests.get(URL + \"columns/bird\")\n",
    "req.json()"
   ]
  },
  {
   "cell_type": "markdown",
   "metadata": {},
   "source": [
    "Let's try a different table:"
   ]
  },
  {
   "cell_type": "code",
   "execution_count": 7,
   "metadata": {},
   "outputs": [
    {
     "data": {
      "text/plain": [
       "{'rest': {'requester': '127.0.0.1',\n",
       "  'url': 'http://127.0.0.1:5000/view/bird_event?name=20220405_purple12white23',\n",
       "  'endpoint': 'get_view_rows',\n",
       "  'error': False,\n",
       "  'elapsed_time': '0:00:00.001451',\n",
       "  'row_count': 1,\n",
       "  'pid': 42219,\n",
       "  'sql_statement': \"SELECT * FROM bird_event_vw WHERE name=('20220405_purple12white23')\"},\n",
       " 'data': [{'id': 5,\n",
       "   'name': '20220405_purple12white23',\n",
       "   'nest': '20171220_purplewhite',\n",
       "   'location': 'CR4',\n",
       "   'status': 'Bird hatched in colony',\n",
       "   'terminal': 0,\n",
       "   'user': 'robsvi@gmail.com',\n",
       "   'notes': None,\n",
       "   'event_date': 'Fri, 15 Apr 2022 13:24:22'}]}"
      ]
     },
     "execution_count": 7,
     "metadata": {},
     "output_type": "execute_result"
    }
   ],
   "source": [
    "# Find all events for a specific bird\n",
    "req = requests.get(URL + \"view/bird_event?name=20220405_purple12white23\")\n",
    "req.json()"
   ]
  },
  {
   "cell_type": "markdown",
   "metadata": {},
   "source": [
    "So far, everything has worked. What if there's an error, like a filter that specifies a non-existent bird?"
   ]
  },
  {
   "cell_type": "code",
   "execution_count": 8,
   "metadata": {},
   "outputs": [
    {
     "data": {
      "text/plain": [
       "{'rest': {'error': 'No rows returned for query SELECT * FROM bird_event_vw WHERE name=%s'}}"
      ]
     },
     "execution_count": 8,
     "metadata": {},
     "output_type": "execute_result"
    }
   ],
   "source": [
    "# If there's an error, check rest->error\n",
    "req = requests.get(URL + \"view/bird_event?name=no_such_bird\")\n",
    "req.json()"
   ]
  },
  {
   "cell_type": "markdown",
   "metadata": {},
   "source": [
    "What about nests?"
   ]
  },
  {
   "cell_type": "code",
   "execution_count": 9,
   "metadata": {},
   "outputs": [
    {
     "data": {
      "text/plain": [
       "{'rest': {'requester': '127.0.0.1',\n",
       "  'url': 'http://127.0.0.1:5000/view/nest?sire=20171220_purple42white35',\n",
       "  'endpoint': 'get_view_rows',\n",
       "  'error': False,\n",
       "  'elapsed_time': '0:00:00.001386',\n",
       "  'row_count': 1,\n",
       "  'pid': 42219,\n",
       "  'sql_statement': \"SELECT * FROM nest_vw WHERE sire=('20171220_purple42white35')\"},\n",
       " 'data': [{'id': 1,\n",
       "   'name': '20171220_purplewhite',\n",
       "   'band': 'puwh',\n",
       "   'sire': '20171220_purple42white35',\n",
       "   'damsel': '20171220_green42green35',\n",
       "   'female1': None,\n",
       "   'female2': None,\n",
       "   'female3': None,\n",
       "   'location': 'CR10',\n",
       "   'active': 1,\n",
       "   'breeding': 1,\n",
       "   'fostering': 0,\n",
       "   'tutoring': 0,\n",
       "   'notes': None,\n",
       "   'create_date': 'Fri, 15 Apr 2022 13:22:59'}]}"
      ]
     },
     "execution_count": 9,
     "metadata": {},
     "output_type": "execute_result"
    }
   ],
   "source": [
    "# Find the nest with a specific bird as a sire\n",
    "req = requests.get(URL + \"view/nest?sire=20171220_purple42white35\")\n",
    "req.json()"
   ]
  },
  {
   "cell_type": "markdown",
   "metadata": {},
   "source": [
    "Wildcards are also supported. Let's go back to the bird table:"
   ]
  },
  {
   "cell_type": "code",
   "execution_count": 10,
   "metadata": {},
   "outputs": [
    {
     "data": {
      "text/plain": [
       "{'rest': {'requester': '127.0.0.1',\n",
       "  'url': 'http://127.0.0.1:5000/view/bird?name=*green*',\n",
       "  'endpoint': 'get_view_rows',\n",
       "  'error': False,\n",
       "  'elapsed_time': '0:00:00.001403',\n",
       "  'row_count': 1,\n",
       "  'pid': 42219,\n",
       "  'sql_statement': \"SELECT * FROM bird_vw WHERE name LIKE ('%green%')\"},\n",
       " 'data': [{'id': 2,\n",
       "   'name': '20171220_green42green35',\n",
       "   'band': 'gr42gr35',\n",
       "   'nest': '20171220_purplewhite',\n",
       "   'clutch': None,\n",
       "   'sire': None,\n",
       "   'damsel': None,\n",
       "   'tutor': None,\n",
       "   'location': 'breeding',\n",
       "   'user': None,\n",
       "   'username': '',\n",
       "   'sex': 'F',\n",
       "   'notes': None,\n",
       "   'current_age': 1577,\n",
       "   'alive': 1,\n",
       "   'hatch_early': 'Wed, 20 Dec 2017 00:00:00',\n",
       "   'hatch_late': 'Wed, 27 Dec 2017 00:00:00',\n",
       "   'death_date': '0000-00-00 00:00:00'}]}"
      ]
     },
     "execution_count": 10,
     "metadata": {},
     "output_type": "execute_result"
    }
   ],
   "source": [
    "# Find all birds with a green leg band:\n",
    "req = requests.get(URL + \"view/bird?name=*green*\")\n",
    "req.json()"
   ]
  },
  {
   "cell_type": "markdown",
   "metadata": {},
   "source": [
    "\"Not equals\" (or \"not like\" in the case of wildscards) is also supported:"
   ]
  },
  {
   "cell_type": "code",
   "execution_count": 11,
   "metadata": {},
   "outputs": [
    {
     "data": {
      "text/plain": [
       "{'rest': {'requester': '127.0.0.1',\n",
       "  'url': 'http://127.0.0.1:5000/view/bird?name!=*green*&_columns=name',\n",
       "  'endpoint': 'get_view_rows',\n",
       "  'error': False,\n",
       "  'elapsed_time': '0:00:00.001104',\n",
       "  'row_count': 5,\n",
       "  'pid': 42219,\n",
       "  'sql_statement': \"SELECT name FROM bird_vw WHERE name NOT LIKE ('%green%')\"},\n",
       " 'data': [{'name': '20171220_purple42white35'},\n",
       "  {'name': '20180611_purple19white71'},\n",
       "  {'name': '20220405_purple11white21'},\n",
       "  {'name': '20220405_purple12white22'},\n",
       "  {'name': '20220405_purple12white23'}]}"
      ]
     },
     "execution_count": 11,
     "metadata": {},
     "output_type": "execute_result"
    }
   ],
   "source": [
    "# Find the names of all birds without a green leg band:\n",
    "req = requests.get(URL + \"view/bird?name!=*green*&_columns=name\")\n",
    "req.json()"
   ]
  },
  {
   "cell_type": "markdown",
   "metadata": {},
   "source": [
    "<= and >= are also supported. Let's find every bird hatched before January 1st of 2020:"
   ]
  },
  {
   "cell_type": "code",
   "execution_count": 12,
   "metadata": {},
   "outputs": [
    {
     "data": {
      "text/plain": [
       "{'rest': {'requester': '127.0.0.1',\n",
       "  'url': 'http://127.0.0.1:5000/view/bird?hatch_late%3C=2020-01-01&_columns=name,hatch_early,hatch_late',\n",
       "  'endpoint': 'get_view_rows',\n",
       "  'error': False,\n",
       "  'elapsed_time': '0:00:00.001618',\n",
       "  'row_count': 3,\n",
       "  'pid': 42219,\n",
       "  'sql_statement': \"SELECT name,hatch_early,hatch_late FROM bird_vw WHERE hatch_late<=('2020-01-01')\"},\n",
       " 'data': [{'name': '20171220_purple42white35',\n",
       "   'hatch_early': 'Wed, 20 Dec 2017 00:00:00',\n",
       "   'hatch_late': 'Wed, 27 Dec 2017 00:00:00'},\n",
       "  {'name': '20171220_green42green35',\n",
       "   'hatch_early': 'Wed, 20 Dec 2017 00:00:00',\n",
       "   'hatch_late': 'Wed, 27 Dec 2017 00:00:00'},\n",
       "  {'name': '20180611_purple19white71',\n",
       "   'hatch_early': 'Mon, 11 Jun 2018 00:00:00',\n",
       "   'hatch_late': 'Sun, 17 Jun 2018 00:00:00'}]}"
      ]
     },
     "execution_count": 12,
     "metadata": {},
     "output_type": "execute_result"
    }
   ],
   "source": [
    "# Find the names of all birds without a green leg band:\n",
    "req = requests.get(URL + \"view/bird?hatch_late<=2020-01-01&_columns=name,hatch_early,hatch_late\")\n",
    "req.json()"
   ]
  },
  {
   "cell_type": "code",
   "execution_count": null,
   "metadata": {},
   "outputs": [],
   "source": []
  }
 ],
 "metadata": {
  "kernelspec": {
   "display_name": "Python 3",
   "language": "python",
   "name": "python3"
  },
  "language_info": {
   "codemirror_mode": {
    "name": "ipython",
    "version": 3
   },
   "file_extension": ".py",
   "mimetype": "text/x-python",
   "name": "python",
   "nbconvert_exporter": "python",
   "pygments_lexer": "ipython3",
   "version": "3.8.1"
  }
 },
 "nbformat": 4,
 "nbformat_minor": 4
}
