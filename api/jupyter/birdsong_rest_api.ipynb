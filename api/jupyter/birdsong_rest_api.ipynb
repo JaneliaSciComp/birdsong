{
 "cells": [
  {
   "cell_type": "markdown",
   "metadata": {},
   "source": [
    "# Birdsong REST API\n",
    "\n",
    "The Birdsong database is accessible via a REST API. Accessing it with any language should be fairly simple; for these examples, we'll use Python.\n",
    "\n",
    "All we need to get started is to import the _requests_ package and set up our base URL."
   ]
  },
  {
   "cell_type": "code",
   "execution_count": 1,
   "metadata": {},
   "outputs": [],
   "source": [
    "import requests\n",
    "URL = \"http://127.0.0.1:5000/\""
   ]
  },
  {
   "cell_type": "markdown",
   "metadata": {},
   "source": [
    "The simplest requests just view the rows in the database tables. Let's look at _bird_ - the datbase's driving table:"
   ]
  },
  {
   "cell_type": "code",
   "execution_count": 2,
   "metadata": {},
   "outputs": [
    {
     "data": {
      "text/plain": [
       "[{'id': 1,\n",
       "  'name': '20171220_purple42white35',\n",
       "  'band': 'pu42wh35',\n",
       "  'nest': '20171220_purplewhite',\n",
       "  'clutch': None,\n",
       "  'sire': None,\n",
       "  'damsel': None,\n",
       "  'tutor': None,\n",
       "  'location': 'CR4',\n",
       "  'user': None,\n",
       "  'username': '',\n",
       "  'sex': 'M',\n",
       "  'notes': None,\n",
       "  'current_age': 1594,\n",
       "  'alive': 1,\n",
       "  'hatch_early': 'Wed, 20 Dec 2017 00:00:00',\n",
       "  'hatch_late': 'Wed, 27 Dec 2017 00:00:00',\n",
       "  'death_date': '0000-00-00 00:00:00'},\n",
       " {'id': 2,\n",
       "  'name': '20171220_green42green35',\n",
       "  'band': 'gr42gr35',\n",
       "  'nest': '20171220_purplewhite',\n",
       "  'clutch': None,\n",
       "  'sire': None,\n",
       "  'damsel': None,\n",
       "  'tutor': None,\n",
       "  'location': 'breeding',\n",
       "  'user': None,\n",
       "  'username': '',\n",
       "  'sex': 'F',\n",
       "  'notes': None,\n",
       "  'current_age': 1594,\n",
       "  'alive': 1,\n",
       "  'hatch_early': 'Wed, 20 Dec 2017 00:00:00',\n",
       "  'hatch_late': 'Wed, 27 Dec 2017 00:00:00',\n",
       "  'death_date': '0000-00-00 00:00:00'},\n",
       " {'id': 3,\n",
       "  'name': '20180611_purple19white71',\n",
       "  'band': 'pu19wh71',\n",
       "  'nest': '20171220_purplewhite',\n",
       "  'clutch': None,\n",
       "  'sire': '20171220_purple42white35',\n",
       "  'damsel': '20171220_green42green35',\n",
       "  'tutor': None,\n",
       "  'location': None,\n",
       "  'user': 'robsvi@gmail.com',\n",
       "  'username': 'Svirskas, Rob',\n",
       "  'sex': 'M',\n",
       "  'notes': None,\n",
       "  'current_age': 1421,\n",
       "  'alive': 1,\n",
       "  'hatch_early': 'Mon, 11 Jun 2018 00:00:00',\n",
       "  'hatch_late': 'Sun, 17 Jun 2018 00:00:00',\n",
       "  'death_date': '0000-00-00 00:00:00'},\n",
       " {'id': 4,\n",
       "  'name': '20220405_purple11white21',\n",
       "  'band': 'pu11wh21',\n",
       "  'nest': '20171220_purplewhite',\n",
       "  'clutch': '20220405_20171220_purplewhite',\n",
       "  'sire': '20171220_purple42white35',\n",
       "  'damsel': '20171220_green42green35',\n",
       "  'tutor': None,\n",
       "  'location': 'CR4',\n",
       "  'user': None,\n",
       "  'username': '',\n",
       "  'sex': '',\n",
       "  'notes': '',\n",
       "  'current_age': 27,\n",
       "  'alive': 1,\n",
       "  'hatch_early': 'Tue, 5 Apr 2022 00:00:00',\n",
       "  'hatch_late': 'Fri, 15 Apr 2022 00:00:00',\n",
       "  'death_date': '0000-00-00 00:00:00'},\n",
       " {'id': 5,\n",
       "  'name': '20220405_purple12white22',\n",
       "  'band': 'pu12wh22',\n",
       "  'nest': '20220415_orangeblue',\n",
       "  'clutch': '20220405_20171220_purplewhite',\n",
       "  'sire': '20171220_purple42white35',\n",
       "  'damsel': '20171220_green42green35',\n",
       "  'tutor': None,\n",
       "  'location': '581D-7',\n",
       "  'user': 'robsvi@gmail.com',\n",
       "  'username': 'Svirskas, Rob',\n",
       "  'sex': 'M',\n",
       "  'notes': '',\n",
       "  'current_age': 27,\n",
       "  'alive': 1,\n",
       "  'hatch_early': 'Tue, 5 Apr 2022 00:00:00',\n",
       "  'hatch_late': 'Fri, 15 Apr 2022 00:00:00',\n",
       "  'death_date': '0000-00-00 00:00:00'},\n",
       " {'id': 6,\n",
       "  'name': '20220405_purple12white23',\n",
       "  'band': 'pu12wh23',\n",
       "  'nest': '20220415_orangeblue',\n",
       "  'clutch': '20220405_20171220_purplewhite',\n",
       "  'sire': '20171220_purple42white35',\n",
       "  'damsel': '20171220_green42green35',\n",
       "  'tutor': None,\n",
       "  'location': '581D-7',\n",
       "  'user': 'robsvi@gmail.com',\n",
       "  'username': 'Svirskas, Rob',\n",
       "  'sex': 'F',\n",
       "  'notes': '',\n",
       "  'current_age': 27,\n",
       "  'alive': 1,\n",
       "  'hatch_early': 'Tue, 5 Apr 2022 00:00:00',\n",
       "  'hatch_late': 'Fri, 15 Apr 2022 00:00:00',\n",
       "  'death_date': '0000-00-00 00:00:00'},\n",
       " {'id': 7,\n",
       "  'name': '20220415_orange31blue41',\n",
       "  'band': 'or31bu41',\n",
       "  'nest': '20220415_orangeblue',\n",
       "  'clutch': '20220415_20220415_orangeblue',\n",
       "  'sire': '20220405_purple12white22',\n",
       "  'damsel': '20220405_purple12white23',\n",
       "  'tutor': None,\n",
       "  'location': '581D-7',\n",
       "  'user': None,\n",
       "  'username': '',\n",
       "  'sex': '',\n",
       "  'notes': '',\n",
       "  'current_age': 17,\n",
       "  'alive': 1,\n",
       "  'hatch_early': 'Fri, 15 Apr 2022 00:00:00',\n",
       "  'hatch_late': 'Fri, 15 Apr 2022 00:00:00',\n",
       "  'death_date': '0000-00-00 00:00:00'},\n",
       " {'id': 8,\n",
       "  'name': '20220415_orange32blue42',\n",
       "  'band': 'or32bu42',\n",
       "  'nest': '20220415_orangeblue',\n",
       "  'clutch': '20220415_20220415_orangeblue',\n",
       "  'sire': '20220405_purple12white22',\n",
       "  'damsel': '20220405_purple12white23',\n",
       "  'tutor': None,\n",
       "  'location': '581D-7',\n",
       "  'user': None,\n",
       "  'username': '',\n",
       "  'sex': '',\n",
       "  'notes': '',\n",
       "  'current_age': 17,\n",
       "  'alive': 1,\n",
       "  'hatch_early': 'Fri, 15 Apr 2022 00:00:00',\n",
       "  'hatch_late': 'Fri, 15 Apr 2022 00:00:00',\n",
       "  'death_date': '0000-00-00 00:00:00'},\n",
       " {'id': 9,\n",
       "  'name': '20220415_orange33blue43',\n",
       "  'band': 'or33bu43',\n",
       "  'nest': '20220415_orangeblue',\n",
       "  'clutch': '20220415_20220415_orangeblue',\n",
       "  'sire': '20220405_purple12white22',\n",
       "  'damsel': '20220405_purple12white23',\n",
       "  'tutor': None,\n",
       "  'location': '581D-7',\n",
       "  'user': None,\n",
       "  'username': '',\n",
       "  'sex': '',\n",
       "  'notes': '',\n",
       "  'current_age': 17,\n",
       "  'alive': 1,\n",
       "  'hatch_early': 'Fri, 15 Apr 2022 00:00:00',\n",
       "  'hatch_late': 'Fri, 15 Apr 2022 00:00:00',\n",
       "  'death_date': '0000-00-00 00:00:00'},\n",
       " {'id': 10,\n",
       "  'name': '20220415_orange34blue44',\n",
       "  'band': 'or34bu44',\n",
       "  'nest': '20220415_orangeblue',\n",
       "  'clutch': '20220415_20220415_orangeblue',\n",
       "  'sire': '20220405_purple12white22',\n",
       "  'damsel': '20220405_purple12white23',\n",
       "  'tutor': None,\n",
       "  'location': '581D-7',\n",
       "  'user': None,\n",
       "  'username': '',\n",
       "  'sex': 'F',\n",
       "  'notes': '',\n",
       "  'current_age': None,\n",
       "  'alive': 0,\n",
       "  'hatch_early': 'Fri, 15 Apr 2022 00:00:00',\n",
       "  'hatch_late': 'Fri, 15 Apr 2022 00:00:00',\n",
       "  'death_date': 'Mon, 2 May 2022 10:07:43'},\n",
       " {'id': 11,\n",
       "  'name': '20220502_orange66blue77',\n",
       "  'band': 'or66bu77',\n",
       "  'nest': '20220415_orangeblue',\n",
       "  'clutch': '20220502_20220415_orangeblue',\n",
       "  'sire': '20220405_purple12white22',\n",
       "  'damsel': '20220405_purple12white23',\n",
       "  'tutor': None,\n",
       "  'location': '581D-7',\n",
       "  'user': None,\n",
       "  'username': '',\n",
       "  'sex': '',\n",
       "  'notes': '',\n",
       "  'current_age': 0,\n",
       "  'alive': 1,\n",
       "  'hatch_early': 'Mon, 2 May 2022 00:00:00',\n",
       "  'hatch_late': 'Mon, 2 May 2022 00:00:00',\n",
       "  'death_date': '0000-00-00 00:00:00'}]"
      ]
     },
     "execution_count": 2,
     "metadata": {},
     "output_type": "execute_result"
    }
   ],
   "source": [
    "# Find all birds\n",
    "req = requests.get(URL + \"view/bird\")\n",
    "\n",
    "# Results are returned as JSON. There are two blocks - \"data\" contains the returned data\n",
    "req.json()[\"data\"]"
   ]
  },
  {
   "cell_type": "code",
   "execution_count": 3,
   "metadata": {},
   "outputs": [
    {
     "data": {
      "text/plain": [
       "{'requester': '127.0.0.1',\n",
       " 'url': 'http://127.0.0.1:5000/view/bird',\n",
       " 'endpoint': 'get_view_rows',\n",
       " 'error': False,\n",
       " 'elapsed_time': '0:00:00.002446',\n",
       " 'row_count': 11,\n",
       " 'pid': 63397,\n",
       " 'sql_statement': 'SELECT * FROM bird_vw'}"
      ]
     },
     "execution_count": 3,
     "metadata": {},
     "output_type": "execute_result"
    }
   ],
   "source": [
    "# \"rest\" contains statistics on the API call itself\n",
    "req.json()[\"rest\"]"
   ]
  },
  {
   "cell_type": "markdown",
   "metadata": {},
   "source": [
    "We can also filter query results to look at specific birds:"
   ]
  },
  {
   "cell_type": "code",
   "execution_count": 4,
   "metadata": {},
   "outputs": [
    {
     "data": {
      "text/plain": [
       "{'rest': {'requester': '127.0.0.1',\n",
       "  'url': 'http://127.0.0.1:5000/view/bird?sire=20171220_purple42white35',\n",
       "  'endpoint': 'get_view_rows',\n",
       "  'error': False,\n",
       "  'elapsed_time': '0:00:00.001787',\n",
       "  'row_count': 4,\n",
       "  'pid': 63397,\n",
       "  'sql_statement': \"SELECT * FROM bird_vw WHERE sire=('20171220_purple42white35')\"},\n",
       " 'data': [{'id': 3,\n",
       "   'name': '20180611_purple19white71',\n",
       "   'band': 'pu19wh71',\n",
       "   'nest': '20171220_purplewhite',\n",
       "   'clutch': None,\n",
       "   'sire': '20171220_purple42white35',\n",
       "   'damsel': '20171220_green42green35',\n",
       "   'tutor': None,\n",
       "   'location': None,\n",
       "   'user': 'robsvi@gmail.com',\n",
       "   'username': 'Svirskas, Rob',\n",
       "   'sex': 'M',\n",
       "   'notes': None,\n",
       "   'current_age': 1421,\n",
       "   'alive': 1,\n",
       "   'hatch_early': 'Mon, 11 Jun 2018 00:00:00',\n",
       "   'hatch_late': 'Sun, 17 Jun 2018 00:00:00',\n",
       "   'death_date': '0000-00-00 00:00:00'},\n",
       "  {'id': 4,\n",
       "   'name': '20220405_purple11white21',\n",
       "   'band': 'pu11wh21',\n",
       "   'nest': '20171220_purplewhite',\n",
       "   'clutch': '20220405_20171220_purplewhite',\n",
       "   'sire': '20171220_purple42white35',\n",
       "   'damsel': '20171220_green42green35',\n",
       "   'tutor': None,\n",
       "   'location': 'CR4',\n",
       "   'user': None,\n",
       "   'username': '',\n",
       "   'sex': '',\n",
       "   'notes': '',\n",
       "   'current_age': 27,\n",
       "   'alive': 1,\n",
       "   'hatch_early': 'Tue, 5 Apr 2022 00:00:00',\n",
       "   'hatch_late': 'Fri, 15 Apr 2022 00:00:00',\n",
       "   'death_date': '0000-00-00 00:00:00'},\n",
       "  {'id': 5,\n",
       "   'name': '20220405_purple12white22',\n",
       "   'band': 'pu12wh22',\n",
       "   'nest': '20220415_orangeblue',\n",
       "   'clutch': '20220405_20171220_purplewhite',\n",
       "   'sire': '20171220_purple42white35',\n",
       "   'damsel': '20171220_green42green35',\n",
       "   'tutor': None,\n",
       "   'location': '581D-7',\n",
       "   'user': 'robsvi@gmail.com',\n",
       "   'username': 'Svirskas, Rob',\n",
       "   'sex': 'M',\n",
       "   'notes': '',\n",
       "   'current_age': 27,\n",
       "   'alive': 1,\n",
       "   'hatch_early': 'Tue, 5 Apr 2022 00:00:00',\n",
       "   'hatch_late': 'Fri, 15 Apr 2022 00:00:00',\n",
       "   'death_date': '0000-00-00 00:00:00'},\n",
       "  {'id': 6,\n",
       "   'name': '20220405_purple12white23',\n",
       "   'band': 'pu12wh23',\n",
       "   'nest': '20220415_orangeblue',\n",
       "   'clutch': '20220405_20171220_purplewhite',\n",
       "   'sire': '20171220_purple42white35',\n",
       "   'damsel': '20171220_green42green35',\n",
       "   'tutor': None,\n",
       "   'location': '581D-7',\n",
       "   'user': 'robsvi@gmail.com',\n",
       "   'username': 'Svirskas, Rob',\n",
       "   'sex': 'F',\n",
       "   'notes': '',\n",
       "   'current_age': 27,\n",
       "   'alive': 1,\n",
       "   'hatch_early': 'Tue, 5 Apr 2022 00:00:00',\n",
       "   'hatch_late': 'Fri, 15 Apr 2022 00:00:00',\n",
       "   'death_date': '0000-00-00 00:00:00'}]}"
      ]
     },
     "execution_count": 4,
     "metadata": {},
     "output_type": "execute_result"
    }
   ],
   "source": [
    "# Find all birds sired by a specific bird\n",
    "req = requests.get(URL + \"view/bird?sire=20171220_purple42white35\")\n",
    "req.json()"
   ]
  },
  {
   "cell_type": "markdown",
   "metadata": {},
   "source": [
    "That's a lot of data. What if we just wanted the nest and name for the birds?\n",
    "We can specify just the columns we want:"
   ]
  },
  {
   "cell_type": "code",
   "execution_count": 5,
   "metadata": {},
   "outputs": [
    {
     "data": {
      "text/plain": [
       "{'rest': {'requester': '127.0.0.1',\n",
       "  'url': 'http://127.0.0.1:5000/view/bird?sire=20171220_purple42white35&_columns=nest,name',\n",
       "  'endpoint': 'get_view_rows',\n",
       "  'error': False,\n",
       "  'elapsed_time': '0:00:00.001405',\n",
       "  'row_count': 4,\n",
       "  'pid': 63397,\n",
       "  'sql_statement': \"SELECT nest,name FROM bird_vw WHERE sire=('20171220_purple42white35')\"},\n",
       " 'data': [{'nest': '20171220_purplewhite', 'name': '20180611_purple19white71'},\n",
       "  {'nest': '20171220_purplewhite', 'name': '20220405_purple11white21'},\n",
       "  {'nest': '20220415_orangeblue', 'name': '20220405_purple12white22'},\n",
       "  {'nest': '20220415_orangeblue', 'name': '20220405_purple12white23'}]}"
      ]
     },
     "execution_count": 5,
     "metadata": {},
     "output_type": "execute_result"
    }
   ],
   "source": [
    "# Find specific columns for all birds sired by a specific bird\n",
    "req = requests.get(URL + \"view/bird?sire=20171220_purple42white35&_columns=nest,name\")\n",
    "req.json()"
   ]
  },
  {
   "cell_type": "markdown",
   "metadata": {},
   "source": [
    "If you ever want to know which columns you can use for filtering, use the _/columns/_ endpoint:"
   ]
  },
  {
   "cell_type": "code",
   "execution_count": 8,
   "metadata": {},
   "outputs": [
    {
     "data": {
      "text/plain": [
       "{'rest': {'requester': '127.0.0.1',\n",
       "  'url': 'http://127.0.0.1:5000/columns/bird',\n",
       "  'endpoint': 'get_view_columns',\n",
       "  'error': False,\n",
       "  'elapsed_time': '0:00:00.003204',\n",
       "  'row_count': 18,\n",
       "  'pid': 63397},\n",
       " 'columns': [{'Field': 'id',\n",
       "   'Type': 'int(10) unsigned',\n",
       "   'Null': 'NO',\n",
       "   'Key': '',\n",
       "   'Default': '0',\n",
       "   'Extra': ''},\n",
       "  {'Field': 'name',\n",
       "   'Type': 'varchar(128)',\n",
       "   'Null': 'NO',\n",
       "   'Key': '',\n",
       "   'Default': None,\n",
       "   'Extra': ''},\n",
       "  {'Field': 'band',\n",
       "   'Type': 'varchar(128)',\n",
       "   'Null': 'NO',\n",
       "   'Key': '',\n",
       "   'Default': None,\n",
       "   'Extra': ''},\n",
       "  {'Field': 'nest',\n",
       "   'Type': 'varchar(128)',\n",
       "   'Null': 'YES',\n",
       "   'Key': '',\n",
       "   'Default': None,\n",
       "   'Extra': ''},\n",
       "  {'Field': 'clutch',\n",
       "   'Type': 'varchar(128)',\n",
       "   'Null': 'YES',\n",
       "   'Key': '',\n",
       "   'Default': None,\n",
       "   'Extra': ''},\n",
       "  {'Field': 'sire',\n",
       "   'Type': 'varchar(128)',\n",
       "   'Null': 'YES',\n",
       "   'Key': '',\n",
       "   'Default': None,\n",
       "   'Extra': ''},\n",
       "  {'Field': 'damsel',\n",
       "   'Type': 'varchar(128)',\n",
       "   'Null': 'YES',\n",
       "   'Key': '',\n",
       "   'Default': None,\n",
       "   'Extra': ''},\n",
       "  {'Field': 'tutor',\n",
       "   'Type': 'varchar(128)',\n",
       "   'Null': 'YES',\n",
       "   'Key': '',\n",
       "   'Default': None,\n",
       "   'Extra': ''},\n",
       "  {'Field': 'location',\n",
       "   'Type': 'varchar(128)',\n",
       "   'Null': 'YES',\n",
       "   'Key': '',\n",
       "   'Default': None,\n",
       "   'Extra': ''},\n",
       "  {'Field': 'user',\n",
       "   'Type': 'varchar(128)',\n",
       "   'Null': 'YES',\n",
       "   'Key': '',\n",
       "   'Default': None,\n",
       "   'Extra': ''},\n",
       "  {'Field': 'username',\n",
       "   'Type': 'varchar(258)',\n",
       "   'Null': 'YES',\n",
       "   'Key': '',\n",
       "   'Default': None,\n",
       "   'Extra': ''},\n",
       "  {'Field': 'sex',\n",
       "   'Type': 'varchar(1)',\n",
       "   'Null': 'NO',\n",
       "   'Key': '',\n",
       "   'Default': None,\n",
       "   'Extra': ''},\n",
       "  {'Field': 'notes',\n",
       "   'Type': 'text',\n",
       "   'Null': 'YES',\n",
       "   'Key': '',\n",
       "   'Default': None,\n",
       "   'Extra': ''},\n",
       "  {'Field': 'current_age',\n",
       "   'Type': 'int(7)',\n",
       "   'Null': 'YES',\n",
       "   'Key': '',\n",
       "   'Default': None,\n",
       "   'Extra': ''},\n",
       "  {'Field': 'alive',\n",
       "   'Type': 'tinyint(3) unsigned',\n",
       "   'Null': 'NO',\n",
       "   'Key': '',\n",
       "   'Default': None,\n",
       "   'Extra': ''},\n",
       "  {'Field': 'hatch_early',\n",
       "   'Type': 'timestamp',\n",
       "   'Null': 'NO',\n",
       "   'Key': '',\n",
       "   'Default': '0000-00-00 00:00:00',\n",
       "   'Extra': ''},\n",
       "  {'Field': 'hatch_late',\n",
       "   'Type': 'timestamp',\n",
       "   'Null': 'NO',\n",
       "   'Key': '',\n",
       "   'Default': '0000-00-00 00:00:00',\n",
       "   'Extra': ''},\n",
       "  {'Field': 'death_date',\n",
       "   'Type': 'timestamp',\n",
       "   'Null': 'NO',\n",
       "   'Key': '',\n",
       "   'Default': '0000-00-00 00:00:00',\n",
       "   'Extra': ''}]}"
      ]
     },
     "execution_count": 8,
     "metadata": {},
     "output_type": "execute_result"
    }
   ],
   "source": [
    "# Find columns in the bird_event table\n",
    "req = requests.get(URL + \"columns/bird\")\n",
    "req.json()"
   ]
  },
  {
   "cell_type": "code",
   "execution_count": null,
   "metadata": {},
   "outputs": [],
   "source": [
    "Not sure of the tables you can query?"
   ]
  },
  {
   "cell_type": "code",
   "execution_count": null,
   "metadata": {},
   "outputs": [],
   "source": [
    "# Find views/tables\n",
    "req = requests.get(URL + \"tables\")\n",
    "req.json()"
   ]
  },
  {
   "cell_type": "markdown",
   "metadata": {},
   "source": [
    "Let's try a different table:"
   ]
  },
  {
   "cell_type": "code",
   "execution_count": null,
   "metadata": {},
   "outputs": [],
   "source": [
    "# Find all events for a specific bird\n",
    "req = requests.get(URL + \"view/bird_event?name=20220405_purple12white23\")\n",
    "req.json()"
   ]
  },
  {
   "cell_type": "markdown",
   "metadata": {},
   "source": [
    "So far, everything has worked. What if there's an error, like a filter that specifies a non-existent bird?"
   ]
  },
  {
   "cell_type": "code",
   "execution_count": null,
   "metadata": {},
   "outputs": [],
   "source": [
    "# If there's an error, check rest->error\n",
    "req = requests.get(URL + \"view/bird_event?name=no_such_bird\")\n",
    "req.json()"
   ]
  },
  {
   "cell_type": "markdown",
   "metadata": {},
   "source": [
    "What about nests?"
   ]
  },
  {
   "cell_type": "code",
   "execution_count": null,
   "metadata": {},
   "outputs": [],
   "source": [
    "# Find nests with a specific bird as a sire\n",
    "req = requests.get(URL + \"view/nest?sire=20171220_purple42white35\")\n",
    "req.json()"
   ]
  },
  {
   "cell_type": "markdown",
   "metadata": {},
   "source": [
    "Wildcards are also supported. Let's go back to the bird table:"
   ]
  },
  {
   "cell_type": "code",
   "execution_count": null,
   "metadata": {},
   "outputs": [],
   "source": [
    "# Find all birds with a green leg band:\n",
    "req = requests.get(URL + \"view/bird?name=*green*\")\n",
    "req.json()"
   ]
  },
  {
   "cell_type": "markdown",
   "metadata": {},
   "source": [
    "\"Not equals\" (or \"not like\" in the case of wildscards) is also supported:"
   ]
  },
  {
   "cell_type": "code",
   "execution_count": null,
   "metadata": {},
   "outputs": [],
   "source": [
    "# Find the names of all birds without a green leg band:\n",
    "req = requests.get(URL + \"view/bird?name!=*green*&_columns=name\")\n",
    "req.json()"
   ]
  },
  {
   "cell_type": "markdown",
   "metadata": {},
   "source": [
    "<= and >= are also supported. Let's find every bird hatched before January 1st of 2020:"
   ]
  },
  {
   "cell_type": "code",
   "execution_count": null,
   "metadata": {},
   "outputs": [],
   "source": [
    "# Find the names of all birds without a green leg band hatched before 2020-01-01:\n",
    "req = requests.get(URL + \"view/bird?hatch_late<=2020-01-01&_columns=name,hatch_early,hatch_late\")\n",
    "req.json()"
   ]
  }
 ],
 "metadata": {
  "kernelspec": {
   "display_name": "Python 3",
   "language": "python",
   "name": "python3"
  },
  "language_info": {
   "codemirror_mode": {
    "name": "ipython",
    "version": 3
   },
   "file_extension": ".py",
   "mimetype": "text/x-python",
   "name": "python",
   "nbconvert_exporter": "python",
   "pygments_lexer": "ipython3",
   "version": "3.8.1"
  }
 },
 "nbformat": 4,
 "nbformat_minor": 4
}
